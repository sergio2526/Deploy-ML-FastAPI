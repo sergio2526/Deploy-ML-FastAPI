{
  "nbformat": 4,
  "nbformat_minor": 0,
  "metadata": {
    "colab": {
      "name": "regression-model.ipynb",
      "provenance": [],
      "collapsed_sections": []
    },
    "kernelspec": {
      "name": "python3",
      "display_name": "Python 3"
    }
  },
  "cells": [
    {
      "cell_type": "markdown",
      "metadata": {
        "id": "kA7JIKdWzMLR"
      },
      "source": [
        "<h2> Información!! </h2>\n",
        "\n",
        "El siguiente modelo es un ejemplo sencillo, con fines de demostrar como entrar un modelo de regresion lineal y luego consumirlo (sacarlo a producción con FastAPI)\n",
        "\n",
        "EL dataset a utilizar es una encuesta realizada en el 2020, cuenta con 17 registros, nos servira para mostrar este ejemplo, pero no para confiar en el resultado del modelo o para aplicar este modelo en un entorno real.\n"
      ]
    },
    {
      "cell_type": "markdown",
      "metadata": {
        "id": "YjxbZMQESOUn"
      },
      "source": [
        "Importando las librerias que se utilizan durante el transcurso del proyecto"
      ]
    },
    {
      "cell_type": "code",
      "metadata": {
        "id": "XvNP3z45yyVO"
      },
      "source": [
        "import pandas as pd\n",
        "import numpy as np\n",
        "import matplotlib.pyplot as plt\n",
        "import pickle\n",
        "from sklearn.model_selection import train_test_split\n",
        "from sklearn.linear_model import LinearRegression"
      ],
      "execution_count": null,
      "outputs": []
    },
    {
      "cell_type": "code",
      "metadata": {
        "colab": {
          "base_uri": "https://localhost:8080/"
        },
        "id": "6Lx485KGx4QB",
        "outputId": "c21acb2b-383b-4286-9d77-7052fa55dd09"
      },
      "source": [
        "from google.colab import drive\n",
        "drive.mount('/drive')"
      ],
      "execution_count": null,
      "outputs": [
        {
          "output_type": "stream",
          "text": [
            "Mounted at /drive\n"
          ],
          "name": "stdout"
        }
      ]
    },
    {
      "cell_type": "code",
      "metadata": {
        "colab": {
          "base_uri": "https://localhost:8080/"
        },
        "id": "MNU4Ejz6yQj0",
        "outputId": "954e3cea-96d4-4096-c658-a2c2091898a0"
      },
      "source": [
        "%cd '/drive/My Drive/Colab Notebooks/Projects/Modelos'\n",
        "%ls"
      ],
      "execution_count": null,
      "outputs": [
        {
          "output_type": "stream",
          "text": [
            "/drive/My Drive/Colab Notebooks/Projects/Modelos\n",
            "Encuesta.csv  model.pkl  regresion-model.ipynb\n"
          ],
          "name": "stdout"
        }
      ]
    },
    {
      "cell_type": "code",
      "metadata": {
        "id": "bUhEq-zXyjsz"
      },
      "source": [
        "df = pd.read_csv('Encuesta.csv', sep=',')"
      ],
      "execution_count": null,
      "outputs": []
    },
    {
      "cell_type": "code",
      "metadata": {
        "colab": {
          "base_uri": "https://localhost:8080/",
          "height": 272
        },
        "id": "7KL7YjLkywKh",
        "outputId": "7ac42e3c-52b8-4c6f-d7f0-63390cd5ae2b"
      },
      "source": [
        "df.tail(5)"
      ],
      "execution_count": null,
      "outputs": [
        {
          "output_type": "execute_result",
          "data": {
            "text/html": [
              "<div>\n",
              "<style scoped>\n",
              "    .dataframe tbody tr th:only-of-type {\n",
              "        vertical-align: middle;\n",
              "    }\n",
              "\n",
              "    .dataframe tbody tr th {\n",
              "        vertical-align: top;\n",
              "    }\n",
              "\n",
              "    .dataframe thead th {\n",
              "        text-align: right;\n",
              "    }\n",
              "</style>\n",
              "<table border=\"1\" class=\"dataframe\">\n",
              "  <thead>\n",
              "    <tr style=\"text-align: right;\">\n",
              "      <th></th>\n",
              "      <th>First name (Optionall)</th>\n",
              "      <th>Years</th>\n",
              "      <th>Country</th>\n",
              "      <th>language Programming</th>\n",
              "      <th>Other Technology</th>\n",
              "      <th>Area dedicated</th>\n",
              "      <th>Age of experience</th>\n",
              "      <th>salary minimum (pesos COP)</th>\n",
              "    </tr>\n",
              "  </thead>\n",
              "  <tbody>\n",
              "    <tr>\n",
              "      <th>12</th>\n",
              "      <td>Cristian</td>\n",
              "      <td>18</td>\n",
              "      <td>colombia</td>\n",
              "      <td>Database</td>\n",
              "      <td>Java</td>\n",
              "      <td>Back-end and Front-end</td>\n",
              "      <td>2.0</td>\n",
              "      <td>7000000</td>\n",
              "    </tr>\n",
              "    <tr>\n",
              "      <th>13</th>\n",
              "      <td>Jefferson</td>\n",
              "      <td>23</td>\n",
              "      <td>colombia</td>\n",
              "      <td>java</td>\n",
              "      <td>NaN</td>\n",
              "      <td>Front-end</td>\n",
              "      <td>1.3</td>\n",
              "      <td>2400000</td>\n",
              "    </tr>\n",
              "    <tr>\n",
              "      <th>14</th>\n",
              "      <td>Oscar</td>\n",
              "      <td>21</td>\n",
              "      <td>colombia</td>\n",
              "      <td>Python</td>\n",
              "      <td>Java</td>\n",
              "      <td>Design and management</td>\n",
              "      <td>1.5</td>\n",
              "      <td>3000000</td>\n",
              "    </tr>\n",
              "    <tr>\n",
              "      <th>15</th>\n",
              "      <td>Carlos</td>\n",
              "      <td>28</td>\n",
              "      <td>Colombia</td>\n",
              "      <td>Java</td>\n",
              "      <td>Python</td>\n",
              "      <td>Desing and management</td>\n",
              "      <td>1.0</td>\n",
              "      <td>3700000</td>\n",
              "    </tr>\n",
              "    <tr>\n",
              "      <th>16</th>\n",
              "      <td>Sergio Alvis</td>\n",
              "      <td>22</td>\n",
              "      <td>Colombia</td>\n",
              "      <td>Java</td>\n",
              "      <td>NaN</td>\n",
              "      <td>Documentation</td>\n",
              "      <td>2.0</td>\n",
              "      <td>2000000</td>\n",
              "    </tr>\n",
              "  </tbody>\n",
              "</table>\n",
              "</div>"
            ],
            "text/plain": [
              "   First name (Optionall)  Years  ... Age of experience salary minimum (pesos COP)\n",
              "12               Cristian     18  ...               2.0                    7000000\n",
              "13              Jefferson     23  ...               1.3                    2400000\n",
              "14                  Oscar     21  ...               1.5                    3000000\n",
              "15                 Carlos     28  ...               1.0                    3700000\n",
              "16           Sergio Alvis     22  ...               2.0                    2000000\n",
              "\n",
              "[5 rows x 8 columns]"
            ]
          },
          "metadata": {
            "tags": []
          },
          "execution_count": 5
        }
      ]
    },
    {
      "cell_type": "markdown",
      "metadata": {
        "id": "XrCAAFua7wT6"
      },
      "source": [
        "Notamos que hay 8 columnas, por fines practicos vamos a trabajar con 2 columnas. Age of experience y salary minimum (pesos COP) que sera nuestra variable a predecir."
      ]
    },
    {
      "cell_type": "code",
      "metadata": {
        "colab": {
          "base_uri": "https://localhost:8080/"
        },
        "id": "s5xcd0bjy3Yi",
        "outputId": "130462cd-c84f-4b85-eba1-c82bf218fbcb"
      },
      "source": [
        "df.info()"
      ],
      "execution_count": null,
      "outputs": [
        {
          "output_type": "stream",
          "text": [
            "<class 'pandas.core.frame.DataFrame'>\n",
            "RangeIndex: 17 entries, 0 to 16\n",
            "Data columns (total 8 columns):\n",
            " #   Column                      Non-Null Count  Dtype  \n",
            "---  ------                      --------------  -----  \n",
            " 0   First name (Optionall)      17 non-null     object \n",
            " 1   Years                       17 non-null     int64  \n",
            " 2   Country                     17 non-null     object \n",
            " 3   language Programming        17 non-null     object \n",
            " 4   Other Technology            8 non-null      object \n",
            " 5   Area dedicated              17 non-null     object \n",
            " 6   Age of experience           17 non-null     float64\n",
            " 7   salary minimum (pesos COP)  17 non-null     int64  \n",
            "dtypes: float64(1), int64(2), object(5)\n",
            "memory usage: 1.2+ KB\n"
          ],
          "name": "stdout"
        }
      ]
    },
    {
      "cell_type": "markdown",
      "metadata": {
        "id": "jjWKFmrtTgTc"
      },
      "source": [
        "La siguiente visualización es opcional. (si lo desea puede saltar a la siguiente celda de codigo)\n",
        "\n",
        "resumen de la visualización : \n",
        "\n",
        "*   Si la edad de la persona es mayor o y igual a 22 años entonces  pintaremos su edad de color rojo\n",
        "\n",
        "*   Si el salario es mayor tendremos un estilo de color azul que nos indica a simple vista cuales son los salarios mas altos.\n",
        "\n"
      ]
    },
    {
      "cell_type": "code",
      "metadata": {
        "colab": {
          "base_uri": "https://localhost:8080/",
          "height": 414
        },
        "id": "sUhFFiHhHqa6",
        "outputId": "aea56ed7-5617-4d4c-aa82-817a8eacb597"
      },
      "source": [
        "df.head(17).sample(17).style.format({\"salary minimum (pesos COP)\": \"{:20,.0f}\", \"Age of experience\":\"{0:.1f}\"})\\\n",
        ".bar(subset='salary minimum (pesos COP)', color='lightblue')\\\n",
        ".background_gradient(subset='Age of experience', cmap='winter_r')\\\n",
        ".applymap(lambda x: f\"color: {'red' if x >= 22 else 'black'}\",subset='Years')"
      ],
      "execution_count": null,
      "outputs": [
        {
          "output_type": "execute_result",
          "data": {
            "text/html": [
              "<style  type=\"text/css\" >\n",
              "#T_757f01e0_81f1_11eb_b1bf_0242ac1c0002row0_col1,#T_757f01e0_81f1_11eb_b1bf_0242ac1c0002row4_col1,#T_757f01e0_81f1_11eb_b1bf_0242ac1c0002row6_col1,#T_757f01e0_81f1_11eb_b1bf_0242ac1c0002row8_col1,#T_757f01e0_81f1_11eb_b1bf_0242ac1c0002row9_col1,#T_757f01e0_81f1_11eb_b1bf_0242ac1c0002row10_col1,#T_757f01e0_81f1_11eb_b1bf_0242ac1c0002row13_col1,#T_757f01e0_81f1_11eb_b1bf_0242ac1c0002row15_col1,#T_757f01e0_81f1_11eb_b1bf_0242ac1c0002row16_col1{\n",
              "            color:  black;\n",
              "        }#T_757f01e0_81f1_11eb_b1bf_0242ac1c0002row0_col6{\n",
              "            background-color:  #00ff80;\n",
              "            color:  #000000;\n",
              "        }#T_757f01e0_81f1_11eb_b1bf_0242ac1c0002row0_col7,#T_757f01e0_81f1_11eb_b1bf_0242ac1c0002row16_col7{\n",
              "            width:  10em;\n",
              "             height:  80%;\n",
              "            background:  linear-gradient(90deg,lightblue 25.0%, transparent 25.0%);\n",
              "        }#T_757f01e0_81f1_11eb_b1bf_0242ac1c0002row1_col1,#T_757f01e0_81f1_11eb_b1bf_0242ac1c0002row2_col1,#T_757f01e0_81f1_11eb_b1bf_0242ac1c0002row3_col1,#T_757f01e0_81f1_11eb_b1bf_0242ac1c0002row5_col1,#T_757f01e0_81f1_11eb_b1bf_0242ac1c0002row7_col1,#T_757f01e0_81f1_11eb_b1bf_0242ac1c0002row11_col1,#T_757f01e0_81f1_11eb_b1bf_0242ac1c0002row12_col1,#T_757f01e0_81f1_11eb_b1bf_0242ac1c0002row14_col1{\n",
              "            color:  red;\n",
              "        }#T_757f01e0_81f1_11eb_b1bf_0242ac1c0002row1_col6,#T_757f01e0_81f1_11eb_b1bf_0242ac1c0002row5_col6,#T_757f01e0_81f1_11eb_b1bf_0242ac1c0002row7_col6,#T_757f01e0_81f1_11eb_b1bf_0242ac1c0002row12_col6,#T_757f01e0_81f1_11eb_b1bf_0242ac1c0002row13_col6,#T_757f01e0_81f1_11eb_b1bf_0242ac1c0002row15_col6{\n",
              "            background-color:  #007fc0;\n",
              "            color:  #f1f1f1;\n",
              "        }#T_757f01e0_81f1_11eb_b1bf_0242ac1c0002row1_col7,#T_757f01e0_81f1_11eb_b1bf_0242ac1c0002row13_col7{\n",
              "            width:  10em;\n",
              "             height:  80%;\n",
              "            background:  linear-gradient(90deg,lightblue 66.7%, transparent 66.7%);\n",
              "        }#T_757f01e0_81f1_11eb_b1bf_0242ac1c0002row2_col6,#T_757f01e0_81f1_11eb_b1bf_0242ac1c0002row10_col6,#T_757f01e0_81f1_11eb_b1bf_0242ac1c0002row14_col6{\n",
              "            background-color:  #0000ff;\n",
              "            color:  #f1f1f1;\n",
              "        }#T_757f01e0_81f1_11eb_b1bf_0242ac1c0002row2_col7{\n",
              "            width:  10em;\n",
              "             height:  80%;\n",
              "            background:  linear-gradient(90deg,lightblue 63.3%, transparent 63.3%);\n",
              "        }#T_757f01e0_81f1_11eb_b1bf_0242ac1c0002row3_col6{\n",
              "            background-color:  #0059d2;\n",
              "            color:  #f1f1f1;\n",
              "        }#T_757f01e0_81f1_11eb_b1bf_0242ac1c0002row3_col7{\n",
              "            width:  10em;\n",
              "             height:  80%;\n",
              "            background:  linear-gradient(90deg,lightblue 23.3%, transparent 23.3%);\n",
              "        }#T_757f01e0_81f1_11eb_b1bf_0242ac1c0002row4_col6,#T_757f01e0_81f1_11eb_b1bf_0242ac1c0002row11_col6{\n",
              "            background-color:  #00b3a6;\n",
              "            color:  #000000;\n",
              "        }#T_757f01e0_81f1_11eb_b1bf_0242ac1c0002row4_col7,#T_757f01e0_81f1_11eb_b1bf_0242ac1c0002row7_col7,#T_757f01e0_81f1_11eb_b1bf_0242ac1c0002row9_col7{\n",
              "            width:  10em;\n",
              "             height:  80%;\n",
              "        }#T_757f01e0_81f1_11eb_b1bf_0242ac1c0002row5_col7{\n",
              "            width:  10em;\n",
              "             height:  80%;\n",
              "            background:  linear-gradient(90deg,lightblue 8.3%, transparent 8.3%);\n",
              "        }#T_757f01e0_81f1_11eb_b1bf_0242ac1c0002row6_col6{\n",
              "            background-color:  #00cc99;\n",
              "            color:  #000000;\n",
              "        }#T_757f01e0_81f1_11eb_b1bf_0242ac1c0002row6_col7,#T_757f01e0_81f1_11eb_b1bf_0242ac1c0002row11_col7{\n",
              "            width:  10em;\n",
              "             height:  80%;\n",
              "            background:  linear-gradient(90deg,lightblue 13.3%, transparent 13.3%);\n",
              "        }#T_757f01e0_81f1_11eb_b1bf_0242ac1c0002row8_col6{\n",
              "            background-color:  #003fe0;\n",
              "            color:  #f1f1f1;\n",
              "        }#T_757f01e0_81f1_11eb_b1bf_0242ac1c0002row8_col7,#T_757f01e0_81f1_11eb_b1bf_0242ac1c0002row15_col7{\n",
              "            width:  10em;\n",
              "             height:  80%;\n",
              "            background:  linear-gradient(90deg,lightblue 33.3%, transparent 33.3%);\n",
              "        }#T_757f01e0_81f1_11eb_b1bf_0242ac1c0002row9_col6{\n",
              "            background-color:  #00d992;\n",
              "            color:  #000000;\n",
              "        }#T_757f01e0_81f1_11eb_b1bf_0242ac1c0002row10_col7{\n",
              "            width:  10em;\n",
              "             height:  80%;\n",
              "            background:  linear-gradient(90deg,lightblue 100.0%, transparent 100.0%);\n",
              "        }#T_757f01e0_81f1_11eb_b1bf_0242ac1c0002row12_col7{\n",
              "            width:  10em;\n",
              "             height:  80%;\n",
              "            background:  linear-gradient(90deg,lightblue 45.0%, transparent 45.0%);\n",
              "        }#T_757f01e0_81f1_11eb_b1bf_0242ac1c0002row14_col7{\n",
              "            width:  10em;\n",
              "             height:  80%;\n",
              "            background:  linear-gradient(90deg,lightblue 16.7%, transparent 16.7%);\n",
              "        }#T_757f01e0_81f1_11eb_b1bf_0242ac1c0002row16_col6{\n",
              "            background-color:  #0099b2;\n",
              "            color:  #000000;\n",
              "        }</style><table id=\"T_757f01e0_81f1_11eb_b1bf_0242ac1c0002\" ><thead>    <tr>        <th class=\"blank level0\" ></th>        <th class=\"col_heading level0 col0\" >First name (Optionall)</th>        <th class=\"col_heading level0 col1\" >Years</th>        <th class=\"col_heading level0 col2\" >Country</th>        <th class=\"col_heading level0 col3\" >language Programming </th>        <th class=\"col_heading level0 col4\" >Other Technology</th>        <th class=\"col_heading level0 col5\" >Area dedicated</th>        <th class=\"col_heading level0 col6\" >Age of experience</th>        <th class=\"col_heading level0 col7\" >salary minimum (pesos COP)</th>    </tr></thead><tbody>\n",
              "                <tr>\n",
              "                        <th id=\"T_757f01e0_81f1_11eb_b1bf_0242ac1c0002level0_row0\" class=\"row_heading level0 row0\" >4</th>\n",
              "                        <td id=\"T_757f01e0_81f1_11eb_b1bf_0242ac1c0002row0_col0\" class=\"data row0 col0\" >Nathaly</td>\n",
              "                        <td id=\"T_757f01e0_81f1_11eb_b1bf_0242ac1c0002row0_col1\" class=\"data row0 col1\" >20</td>\n",
              "                        <td id=\"T_757f01e0_81f1_11eb_b1bf_0242ac1c0002row0_col2\" class=\"data row0 col2\" >Colombia</td>\n",
              "                        <td id=\"T_757f01e0_81f1_11eb_b1bf_0242ac1c0002row0_col3\" class=\"data row0 col3\" >Java</td>\n",
              "                        <td id=\"T_757f01e0_81f1_11eb_b1bf_0242ac1c0002row0_col4\" class=\"data row0 col4\" >nan</td>\n",
              "                        <td id=\"T_757f01e0_81f1_11eb_b1bf_0242ac1c0002row0_col5\" class=\"data row0 col5\" >Analyst</td>\n",
              "                        <td id=\"T_757f01e0_81f1_11eb_b1bf_0242ac1c0002row0_col6\" class=\"data row0 col6\" >0.0</td>\n",
              "                        <td id=\"T_757f01e0_81f1_11eb_b1bf_0242ac1c0002row0_col7\" class=\"data row0 col7\" >           2,500,000</td>\n",
              "            </tr>\n",
              "            <tr>\n",
              "                        <th id=\"T_757f01e0_81f1_11eb_b1bf_0242ac1c0002level0_row1\" class=\"row_heading level0 row1\" >2</th>\n",
              "                        <td id=\"T_757f01e0_81f1_11eb_b1bf_0242ac1c0002row1_col0\" class=\"data row1 col0\" >Nicolas </td>\n",
              "                        <td id=\"T_757f01e0_81f1_11eb_b1bf_0242ac1c0002row1_col1\" class=\"data row1 col1\" >24</td>\n",
              "                        <td id=\"T_757f01e0_81f1_11eb_b1bf_0242ac1c0002row1_col2\" class=\"data row1 col2\" >Colombia</td>\n",
              "                        <td id=\"T_757f01e0_81f1_11eb_b1bf_0242ac1c0002row1_col3\" class=\"data row1 col3\" >Python</td>\n",
              "                        <td id=\"T_757f01e0_81f1_11eb_b1bf_0242ac1c0002row1_col4\" class=\"data row1 col4\" >nan</td>\n",
              "                        <td id=\"T_757f01e0_81f1_11eb_b1bf_0242ac1c0002row1_col5\" class=\"data row1 col5\" >AI & Data Science</td>\n",
              "                        <td id=\"T_757f01e0_81f1_11eb_b1bf_0242ac1c0002row1_col6\" class=\"data row1 col6\" >1.0</td>\n",
              "                        <td id=\"T_757f01e0_81f1_11eb_b1bf_0242ac1c0002row1_col7\" class=\"data row1 col7\" >           5,000,000</td>\n",
              "            </tr>\n",
              "            <tr>\n",
              "                        <th id=\"T_757f01e0_81f1_11eb_b1bf_0242ac1c0002level0_row2\" class=\"row_heading level0 row2\" >6</th>\n",
              "                        <td id=\"T_757f01e0_81f1_11eb_b1bf_0242ac1c0002row2_col0\" class=\"data row2 col0\" >Jerson</td>\n",
              "                        <td id=\"T_757f01e0_81f1_11eb_b1bf_0242ac1c0002row2_col1\" class=\"data row2 col1\" >27</td>\n",
              "                        <td id=\"T_757f01e0_81f1_11eb_b1bf_0242ac1c0002row2_col2\" class=\"data row2 col2\" >Colombia </td>\n",
              "                        <td id=\"T_757f01e0_81f1_11eb_b1bf_0242ac1c0002row2_col3\" class=\"data row2 col3\" >Java</td>\n",
              "                        <td id=\"T_757f01e0_81f1_11eb_b1bf_0242ac1c0002row2_col4\" class=\"data row2 col4\" >JavaScript</td>\n",
              "                        <td id=\"T_757f01e0_81f1_11eb_b1bf_0242ac1c0002row2_col5\" class=\"data row2 col5\" >Developer Android-IOS</td>\n",
              "                        <td id=\"T_757f01e0_81f1_11eb_b1bf_0242ac1c0002row2_col6\" class=\"data row2 col6\" >2.0</td>\n",
              "                        <td id=\"T_757f01e0_81f1_11eb_b1bf_0242ac1c0002row2_col7\" class=\"data row2 col7\" >           4,800,000</td>\n",
              "            </tr>\n",
              "            <tr>\n",
              "                        <th id=\"T_757f01e0_81f1_11eb_b1bf_0242ac1c0002level0_row3\" class=\"row_heading level0 row3\" >13</th>\n",
              "                        <td id=\"T_757f01e0_81f1_11eb_b1bf_0242ac1c0002row3_col0\" class=\"data row3 col0\" >Jefferson</td>\n",
              "                        <td id=\"T_757f01e0_81f1_11eb_b1bf_0242ac1c0002row3_col1\" class=\"data row3 col1\" >23</td>\n",
              "                        <td id=\"T_757f01e0_81f1_11eb_b1bf_0242ac1c0002row3_col2\" class=\"data row3 col2\" >colombia</td>\n",
              "                        <td id=\"T_757f01e0_81f1_11eb_b1bf_0242ac1c0002row3_col3\" class=\"data row3 col3\" >java</td>\n",
              "                        <td id=\"T_757f01e0_81f1_11eb_b1bf_0242ac1c0002row3_col4\" class=\"data row3 col4\" >nan</td>\n",
              "                        <td id=\"T_757f01e0_81f1_11eb_b1bf_0242ac1c0002row3_col5\" class=\"data row3 col5\" >Front-end</td>\n",
              "                        <td id=\"T_757f01e0_81f1_11eb_b1bf_0242ac1c0002row3_col6\" class=\"data row3 col6\" >1.3</td>\n",
              "                        <td id=\"T_757f01e0_81f1_11eb_b1bf_0242ac1c0002row3_col7\" class=\"data row3 col7\" >           2,400,000</td>\n",
              "            </tr>\n",
              "            <tr>\n",
              "                        <th id=\"T_757f01e0_81f1_11eb_b1bf_0242ac1c0002level0_row4\" class=\"row_heading level0 row4\" >8</th>\n",
              "                        <td id=\"T_757f01e0_81f1_11eb_b1bf_0242ac1c0002row4_col0\" class=\"data row4 col0\" >Juan</td>\n",
              "                        <td id=\"T_757f01e0_81f1_11eb_b1bf_0242ac1c0002row4_col1\" class=\"data row4 col1\" >21</td>\n",
              "                        <td id=\"T_757f01e0_81f1_11eb_b1bf_0242ac1c0002row4_col2\" class=\"data row4 col2\" >Colombia</td>\n",
              "                        <td id=\"T_757f01e0_81f1_11eb_b1bf_0242ac1c0002row4_col3\" class=\"data row4 col3\" >Data Bases</td>\n",
              "                        <td id=\"T_757f01e0_81f1_11eb_b1bf_0242ac1c0002row4_col4\" class=\"data row4 col4\" >nan</td>\n",
              "                        <td id=\"T_757f01e0_81f1_11eb_b1bf_0242ac1c0002row4_col5\" class=\"data row4 col5\" >Design and management</td>\n",
              "                        <td id=\"T_757f01e0_81f1_11eb_b1bf_0242ac1c0002row4_col6\" class=\"data row4 col6\" >0.6</td>\n",
              "                        <td id=\"T_757f01e0_81f1_11eb_b1bf_0242ac1c0002row4_col7\" class=\"data row4 col7\" >           1,000,000</td>\n",
              "            </tr>\n",
              "            <tr>\n",
              "                        <th id=\"T_757f01e0_81f1_11eb_b1bf_0242ac1c0002level0_row5\" class=\"row_heading level0 row5\" >9</th>\n",
              "                        <td id=\"T_757f01e0_81f1_11eb_b1bf_0242ac1c0002row5_col0\" class=\"data row5 col0\" >Constan</td>\n",
              "                        <td id=\"T_757f01e0_81f1_11eb_b1bf_0242ac1c0002row5_col1\" class=\"data row5 col1\" >23</td>\n",
              "                        <td id=\"T_757f01e0_81f1_11eb_b1bf_0242ac1c0002row5_col2\" class=\"data row5 col2\" >Colombia </td>\n",
              "                        <td id=\"T_757f01e0_81f1_11eb_b1bf_0242ac1c0002row5_col3\" class=\"data row5 col3\" >Data bases</td>\n",
              "                        <td id=\"T_757f01e0_81f1_11eb_b1bf_0242ac1c0002row5_col4\" class=\"data row5 col4\" >nan</td>\n",
              "                        <td id=\"T_757f01e0_81f1_11eb_b1bf_0242ac1c0002row5_col5\" class=\"data row5 col5\" >Design and management</td>\n",
              "                        <td id=\"T_757f01e0_81f1_11eb_b1bf_0242ac1c0002row5_col6\" class=\"data row5 col6\" >1.0</td>\n",
              "                        <td id=\"T_757f01e0_81f1_11eb_b1bf_0242ac1c0002row5_col7\" class=\"data row5 col7\" >           1,500,000</td>\n",
              "            </tr>\n",
              "            <tr>\n",
              "                        <th id=\"T_757f01e0_81f1_11eb_b1bf_0242ac1c0002level0_row6\" class=\"row_heading level0 row6\" >5</th>\n",
              "                        <td id=\"T_757f01e0_81f1_11eb_b1bf_0242ac1c0002row6_col0\" class=\"data row6 col0\" >Jackson</td>\n",
              "                        <td id=\"T_757f01e0_81f1_11eb_b1bf_0242ac1c0002row6_col1\" class=\"data row6 col1\" >21</td>\n",
              "                        <td id=\"T_757f01e0_81f1_11eb_b1bf_0242ac1c0002row6_col2\" class=\"data row6 col2\" >Colombia</td>\n",
              "                        <td id=\"T_757f01e0_81f1_11eb_b1bf_0242ac1c0002row6_col3\" class=\"data row6 col3\" >Js</td>\n",
              "                        <td id=\"T_757f01e0_81f1_11eb_b1bf_0242ac1c0002row6_col4\" class=\"data row6 col4\" >nan</td>\n",
              "                        <td id=\"T_757f01e0_81f1_11eb_b1bf_0242ac1c0002row6_col5\" class=\"data row6 col5\" >Front-end</td>\n",
              "                        <td id=\"T_757f01e0_81f1_11eb_b1bf_0242ac1c0002row6_col6\" class=\"data row6 col6\" >0.4</td>\n",
              "                        <td id=\"T_757f01e0_81f1_11eb_b1bf_0242ac1c0002row6_col7\" class=\"data row6 col7\" >           1,800,000</td>\n",
              "            </tr>\n",
              "            <tr>\n",
              "                        <th id=\"T_757f01e0_81f1_11eb_b1bf_0242ac1c0002level0_row7\" class=\"row_heading level0 row7\" >7</th>\n",
              "                        <td id=\"T_757f01e0_81f1_11eb_b1bf_0242ac1c0002row7_col0\" class=\"data row7 col0\" >Alejandro</td>\n",
              "                        <td id=\"T_757f01e0_81f1_11eb_b1bf_0242ac1c0002row7_col1\" class=\"data row7 col1\" >22</td>\n",
              "                        <td id=\"T_757f01e0_81f1_11eb_b1bf_0242ac1c0002row7_col2\" class=\"data row7 col2\" >Colombia</td>\n",
              "                        <td id=\"T_757f01e0_81f1_11eb_b1bf_0242ac1c0002row7_col3\" class=\"data row7 col3\" >Javascrip</td>\n",
              "                        <td id=\"T_757f01e0_81f1_11eb_b1bf_0242ac1c0002row7_col4\" class=\"data row7 col4\" >UI design</td>\n",
              "                        <td id=\"T_757f01e0_81f1_11eb_b1bf_0242ac1c0002row7_col5\" class=\"data row7 col5\" >Design</td>\n",
              "                        <td id=\"T_757f01e0_81f1_11eb_b1bf_0242ac1c0002row7_col6\" class=\"data row7 col6\" >1.0</td>\n",
              "                        <td id=\"T_757f01e0_81f1_11eb_b1bf_0242ac1c0002row7_col7\" class=\"data row7 col7\" >           1,000,000</td>\n",
              "            </tr>\n",
              "            <tr>\n",
              "                        <th id=\"T_757f01e0_81f1_11eb_b1bf_0242ac1c0002level0_row8\" class=\"row_heading level0 row8\" >14</th>\n",
              "                        <td id=\"T_757f01e0_81f1_11eb_b1bf_0242ac1c0002row8_col0\" class=\"data row8 col0\" >Oscar</td>\n",
              "                        <td id=\"T_757f01e0_81f1_11eb_b1bf_0242ac1c0002row8_col1\" class=\"data row8 col1\" >21</td>\n",
              "                        <td id=\"T_757f01e0_81f1_11eb_b1bf_0242ac1c0002row8_col2\" class=\"data row8 col2\" >colombia</td>\n",
              "                        <td id=\"T_757f01e0_81f1_11eb_b1bf_0242ac1c0002row8_col3\" class=\"data row8 col3\" >Python</td>\n",
              "                        <td id=\"T_757f01e0_81f1_11eb_b1bf_0242ac1c0002row8_col4\" class=\"data row8 col4\" >Java</td>\n",
              "                        <td id=\"T_757f01e0_81f1_11eb_b1bf_0242ac1c0002row8_col5\" class=\"data row8 col5\" >Design and management</td>\n",
              "                        <td id=\"T_757f01e0_81f1_11eb_b1bf_0242ac1c0002row8_col6\" class=\"data row8 col6\" >1.5</td>\n",
              "                        <td id=\"T_757f01e0_81f1_11eb_b1bf_0242ac1c0002row8_col7\" class=\"data row8 col7\" >           3,000,000</td>\n",
              "            </tr>\n",
              "            <tr>\n",
              "                        <th id=\"T_757f01e0_81f1_11eb_b1bf_0242ac1c0002level0_row9\" class=\"row_heading level0 row9\" >11</th>\n",
              "                        <td id=\"T_757f01e0_81f1_11eb_b1bf_0242ac1c0002row9_col0\" class=\"data row9 col0\" >Brayan</td>\n",
              "                        <td id=\"T_757f01e0_81f1_11eb_b1bf_0242ac1c0002row9_col1\" class=\"data row9 col1\" >20</td>\n",
              "                        <td id=\"T_757f01e0_81f1_11eb_b1bf_0242ac1c0002row9_col2\" class=\"data row9 col2\" >colombia</td>\n",
              "                        <td id=\"T_757f01e0_81f1_11eb_b1bf_0242ac1c0002row9_col3\" class=\"data row9 col3\" >Data Bases</td>\n",
              "                        <td id=\"T_757f01e0_81f1_11eb_b1bf_0242ac1c0002row9_col4\" class=\"data row9 col4\" >nan</td>\n",
              "                        <td id=\"T_757f01e0_81f1_11eb_b1bf_0242ac1c0002row9_col5\" class=\"data row9 col5\" >Design and management</td>\n",
              "                        <td id=\"T_757f01e0_81f1_11eb_b1bf_0242ac1c0002row9_col6\" class=\"data row9 col6\" >0.3</td>\n",
              "                        <td id=\"T_757f01e0_81f1_11eb_b1bf_0242ac1c0002row9_col7\" class=\"data row9 col7\" >           1,000,000</td>\n",
              "            </tr>\n",
              "            <tr>\n",
              "                        <th id=\"T_757f01e0_81f1_11eb_b1bf_0242ac1c0002level0_row10\" class=\"row_heading level0 row10\" >12</th>\n",
              "                        <td id=\"T_757f01e0_81f1_11eb_b1bf_0242ac1c0002row10_col0\" class=\"data row10 col0\" >Cristian</td>\n",
              "                        <td id=\"T_757f01e0_81f1_11eb_b1bf_0242ac1c0002row10_col1\" class=\"data row10 col1\" >18</td>\n",
              "                        <td id=\"T_757f01e0_81f1_11eb_b1bf_0242ac1c0002row10_col2\" class=\"data row10 col2\" >colombia</td>\n",
              "                        <td id=\"T_757f01e0_81f1_11eb_b1bf_0242ac1c0002row10_col3\" class=\"data row10 col3\" >Database</td>\n",
              "                        <td id=\"T_757f01e0_81f1_11eb_b1bf_0242ac1c0002row10_col4\" class=\"data row10 col4\" >Java</td>\n",
              "                        <td id=\"T_757f01e0_81f1_11eb_b1bf_0242ac1c0002row10_col5\" class=\"data row10 col5\" >Back-end and Front-end</td>\n",
              "                        <td id=\"T_757f01e0_81f1_11eb_b1bf_0242ac1c0002row10_col6\" class=\"data row10 col6\" >2.0</td>\n",
              "                        <td id=\"T_757f01e0_81f1_11eb_b1bf_0242ac1c0002row10_col7\" class=\"data row10 col7\" >           7,000,000</td>\n",
              "            </tr>\n",
              "            <tr>\n",
              "                        <th id=\"T_757f01e0_81f1_11eb_b1bf_0242ac1c0002level0_row11\" class=\"row_heading level0 row11\" >1</th>\n",
              "                        <td id=\"T_757f01e0_81f1_11eb_b1bf_0242ac1c0002row11_col0\" class=\"data row11 col0\" >Alberto</td>\n",
              "                        <td id=\"T_757f01e0_81f1_11eb_b1bf_0242ac1c0002row11_col1\" class=\"data row11 col1\" >22</td>\n",
              "                        <td id=\"T_757f01e0_81f1_11eb_b1bf_0242ac1c0002row11_col2\" class=\"data row11 col2\" >Colombia</td>\n",
              "                        <td id=\"T_757f01e0_81f1_11eb_b1bf_0242ac1c0002row11_col3\" class=\"data row11 col3\" >Javascript</td>\n",
              "                        <td id=\"T_757f01e0_81f1_11eb_b1bf_0242ac1c0002row11_col4\" class=\"data row11 col4\" >Php</td>\n",
              "                        <td id=\"T_757f01e0_81f1_11eb_b1bf_0242ac1c0002row11_col5\" class=\"data row11 col5\" >Back-end and Front-end</td>\n",
              "                        <td id=\"T_757f01e0_81f1_11eb_b1bf_0242ac1c0002row11_col6\" class=\"data row11 col6\" >0.6</td>\n",
              "                        <td id=\"T_757f01e0_81f1_11eb_b1bf_0242ac1c0002row11_col7\" class=\"data row11 col7\" >           1,800,000</td>\n",
              "            </tr>\n",
              "            <tr>\n",
              "                        <th id=\"T_757f01e0_81f1_11eb_b1bf_0242ac1c0002level0_row12\" class=\"row_heading level0 row12\" >15</th>\n",
              "                        <td id=\"T_757f01e0_81f1_11eb_b1bf_0242ac1c0002row12_col0\" class=\"data row12 col0\" >Carlos</td>\n",
              "                        <td id=\"T_757f01e0_81f1_11eb_b1bf_0242ac1c0002row12_col1\" class=\"data row12 col1\" >28</td>\n",
              "                        <td id=\"T_757f01e0_81f1_11eb_b1bf_0242ac1c0002row12_col2\" class=\"data row12 col2\" >Colombia </td>\n",
              "                        <td id=\"T_757f01e0_81f1_11eb_b1bf_0242ac1c0002row12_col3\" class=\"data row12 col3\" >Java</td>\n",
              "                        <td id=\"T_757f01e0_81f1_11eb_b1bf_0242ac1c0002row12_col4\" class=\"data row12 col4\" >Python</td>\n",
              "                        <td id=\"T_757f01e0_81f1_11eb_b1bf_0242ac1c0002row12_col5\" class=\"data row12 col5\" >Desing and management</td>\n",
              "                        <td id=\"T_757f01e0_81f1_11eb_b1bf_0242ac1c0002row12_col6\" class=\"data row12 col6\" >1.0</td>\n",
              "                        <td id=\"T_757f01e0_81f1_11eb_b1bf_0242ac1c0002row12_col7\" class=\"data row12 col7\" >           3,700,000</td>\n",
              "            </tr>\n",
              "            <tr>\n",
              "                        <th id=\"T_757f01e0_81f1_11eb_b1bf_0242ac1c0002level0_row13\" class=\"row_heading level0 row13\" >10</th>\n",
              "                        <td id=\"T_757f01e0_81f1_11eb_b1bf_0242ac1c0002row13_col0\" class=\"data row13 col0\" >Cesar</td>\n",
              "                        <td id=\"T_757f01e0_81f1_11eb_b1bf_0242ac1c0002row13_col1\" class=\"data row13 col1\" >21</td>\n",
              "                        <td id=\"T_757f01e0_81f1_11eb_b1bf_0242ac1c0002row13_col2\" class=\"data row13 col2\" >Colombia</td>\n",
              "                        <td id=\"T_757f01e0_81f1_11eb_b1bf_0242ac1c0002row13_col3\" class=\"data row13 col3\" >Python</td>\n",
              "                        <td id=\"T_757f01e0_81f1_11eb_b1bf_0242ac1c0002row13_col4\" class=\"data row13 col4\" >C++</td>\n",
              "                        <td id=\"T_757f01e0_81f1_11eb_b1bf_0242ac1c0002row13_col5\" class=\"data row13 col5\" >web developer</td>\n",
              "                        <td id=\"T_757f01e0_81f1_11eb_b1bf_0242ac1c0002row13_col6\" class=\"data row13 col6\" >1.0</td>\n",
              "                        <td id=\"T_757f01e0_81f1_11eb_b1bf_0242ac1c0002row13_col7\" class=\"data row13 col7\" >           5,000,000</td>\n",
              "            </tr>\n",
              "            <tr>\n",
              "                        <th id=\"T_757f01e0_81f1_11eb_b1bf_0242ac1c0002level0_row14\" class=\"row_heading level0 row14\" >16</th>\n",
              "                        <td id=\"T_757f01e0_81f1_11eb_b1bf_0242ac1c0002row14_col0\" class=\"data row14 col0\" >Sergio Alvis</td>\n",
              "                        <td id=\"T_757f01e0_81f1_11eb_b1bf_0242ac1c0002row14_col1\" class=\"data row14 col1\" >22</td>\n",
              "                        <td id=\"T_757f01e0_81f1_11eb_b1bf_0242ac1c0002row14_col2\" class=\"data row14 col2\" >Colombia </td>\n",
              "                        <td id=\"T_757f01e0_81f1_11eb_b1bf_0242ac1c0002row14_col3\" class=\"data row14 col3\" >Java</td>\n",
              "                        <td id=\"T_757f01e0_81f1_11eb_b1bf_0242ac1c0002row14_col4\" class=\"data row14 col4\" >nan</td>\n",
              "                        <td id=\"T_757f01e0_81f1_11eb_b1bf_0242ac1c0002row14_col5\" class=\"data row14 col5\" >Documentation</td>\n",
              "                        <td id=\"T_757f01e0_81f1_11eb_b1bf_0242ac1c0002row14_col6\" class=\"data row14 col6\" >2.0</td>\n",
              "                        <td id=\"T_757f01e0_81f1_11eb_b1bf_0242ac1c0002row14_col7\" class=\"data row14 col7\" >           2,000,000</td>\n",
              "            </tr>\n",
              "            <tr>\n",
              "                        <th id=\"T_757f01e0_81f1_11eb_b1bf_0242ac1c0002level0_row15\" class=\"row_heading level0 row15\" >0</th>\n",
              "                        <td id=\"T_757f01e0_81f1_11eb_b1bf_0242ac1c0002row15_col0\" class=\"data row15 col0\" >Sergio</td>\n",
              "                        <td id=\"T_757f01e0_81f1_11eb_b1bf_0242ac1c0002row15_col1\" class=\"data row15 col1\" >21</td>\n",
              "                        <td id=\"T_757f01e0_81f1_11eb_b1bf_0242ac1c0002row15_col2\" class=\"data row15 col2\" >Colombia</td>\n",
              "                        <td id=\"T_757f01e0_81f1_11eb_b1bf_0242ac1c0002row15_col3\" class=\"data row15 col3\" >Python</td>\n",
              "                        <td id=\"T_757f01e0_81f1_11eb_b1bf_0242ac1c0002row15_col4\" class=\"data row15 col4\" >R</td>\n",
              "                        <td id=\"T_757f01e0_81f1_11eb_b1bf_0242ac1c0002row15_col5\" class=\"data row15 col5\" >Data Scientist</td>\n",
              "                        <td id=\"T_757f01e0_81f1_11eb_b1bf_0242ac1c0002row15_col6\" class=\"data row15 col6\" >1.0</td>\n",
              "                        <td id=\"T_757f01e0_81f1_11eb_b1bf_0242ac1c0002row15_col7\" class=\"data row15 col7\" >           3,000,000</td>\n",
              "            </tr>\n",
              "            <tr>\n",
              "                        <th id=\"T_757f01e0_81f1_11eb_b1bf_0242ac1c0002level0_row16\" class=\"row_heading level0 row16\" >3</th>\n",
              "                        <td id=\"T_757f01e0_81f1_11eb_b1bf_0242ac1c0002row16_col0\" class=\"data row16 col0\" >Cristian</td>\n",
              "                        <td id=\"T_757f01e0_81f1_11eb_b1bf_0242ac1c0002row16_col1\" class=\"data row16 col1\" >21</td>\n",
              "                        <td id=\"T_757f01e0_81f1_11eb_b1bf_0242ac1c0002row16_col2\" class=\"data row16 col2\" >Colombia</td>\n",
              "                        <td id=\"T_757f01e0_81f1_11eb_b1bf_0242ac1c0002row16_col3\" class=\"data row16 col3\" >Javasript</td>\n",
              "                        <td id=\"T_757f01e0_81f1_11eb_b1bf_0242ac1c0002row16_col4\" class=\"data row16 col4\" >nan</td>\n",
              "                        <td id=\"T_757f01e0_81f1_11eb_b1bf_0242ac1c0002row16_col5\" class=\"data row16 col5\" >Back-end and Front-end</td>\n",
              "                        <td id=\"T_757f01e0_81f1_11eb_b1bf_0242ac1c0002row16_col6\" class=\"data row16 col6\" >0.8</td>\n",
              "                        <td id=\"T_757f01e0_81f1_11eb_b1bf_0242ac1c0002row16_col7\" class=\"data row16 col7\" >           2,500,000</td>\n",
              "            </tr>\n",
              "    </tbody></table>"
            ],
            "text/plain": [
              "<pandas.io.formats.style.Styler at 0x7f65abe8dbd0>"
            ]
          },
          "metadata": {
            "tags": []
          },
          "execution_count": 7
        }
      ]
    },
    {
      "cell_type": "code",
      "metadata": {
        "id": "nXQyowXr9R1O"
      },
      "source": [
        "#Feature\n",
        "X = df[['Age of experience']].values\n",
        "\n",
        "#Target (Variable a predecir)\n",
        "y = df[['salary minimum (pesos COP)']].values"
      ],
      "execution_count": null,
      "outputs": []
    },
    {
      "cell_type": "markdown",
      "metadata": {
        "id": "fu01aMC4VMHI"
      },
      "source": [
        "El 10% de nuestros datos seras para pruebas, entrenamos el modelo con el 90% de los datos"
      ]
    },
    {
      "cell_type": "code",
      "metadata": {
        "id": "oXRgEakXDdun"
      },
      "source": [
        "X_train, X_test, y_train, y_test = train_test_split(X, y, test_size= 0.1, random_state=0)"
      ],
      "execution_count": null,
      "outputs": []
    },
    {
      "cell_type": "code",
      "metadata": {
        "id": "dMWVQ5VjDeel"
      },
      "source": [
        "#Entrenamos el modelo\n",
        "regressor = LinearRegression()\n",
        "regressor.fit(X_train, y_train)\n",
        "\n",
        "y_pred = regressor.predict(X_test)"
      ],
      "execution_count": null,
      "outputs": []
    },
    {
      "cell_type": "code",
      "metadata": {
        "colab": {
          "base_uri": "https://localhost:8080/",
          "height": 295
        },
        "id": "m63eFv4MJHd2",
        "outputId": "840d68de-19b1-4c25-a1d6-f3c6b99b26a6"
      },
      "source": [
        "#Visualización de los datos de entrenamiento\n",
        "viz_train = plt\n",
        "viz_train.scatter(X_train, y_train, color = 'green')\n",
        "viz_train.plot(X_train, regressor.predict(X_train), color = 'black')\n",
        "viz_train.title('Salario vs Experiencia')\n",
        "viz_train.xlabel('Experiencia')\n",
        "viz_train.ylabel('Salario')\n",
        "viz_train.show()"
      ],
      "execution_count": null,
      "outputs": [
        {
          "output_type": "display_data",
          "data": {
            "image/png": "[encoded data removed]",
            "text/plain": [
              "<Figure size 432x288 with 1 Axes>"
            ]
          },
          "metadata": {
            "tags": [],
            "needs_background": "light"
          }
        }
      ]
    },
    {
      "cell_type": "code",
      "metadata": {
        "colab": {
          "base_uri": "https://localhost:8080/",
          "height": 295
        },
        "id": "oMFROoWyJJoz",
        "outputId": "76010176-c06d-4db0-cdb8-6957d7d2667c"
      },
      "source": [
        "#Visualización de los datos de prueba \n",
        "viz_train = plt\n",
        "viz_train.scatter(X_test, y_test, color = 'red')\n",
        "viz_train.plot(X_train, regressor.predict(X_train), color = 'black')\n",
        "viz_train.title('Salario vs Experiencia')\n",
        "viz_train.xlabel('Experiencia')\n",
        "viz_train.ylabel('Salario')\n",
        "viz_train.show()"
      ],
      "execution_count": null,
      "outputs": [
        {
          "output_type": "display_data",
          "data": {
            "image/png": "[encoded data removed]",
            "text/plain": [
              "<Figure size 432x288 with 1 Axes>"
            ]
          },
          "metadata": {
            "tags": [],
            "needs_background": "light"
          }
        }
      ]
    },
    {
      "cell_type": "code",
      "metadata": {
        "colab": {
          "base_uri": "https://localhost:8080/"
        },
        "id": "3BMdaqSPEUYN",
        "outputId": "3742dd8d-67d4-498b-8e38-87acde5447ac"
      },
      "source": [
        "#Score del modelo\n",
        "regressor.score(X_test, y_test)"
      ],
      "execution_count": null,
      "outputs": [
        {
          "output_type": "execute_result",
          "data": {
            "text/plain": [
              "0.8921137307144845"
            ]
          },
          "metadata": {
            "tags": []
          },
          "execution_count": 13
        }
      ]
    },
    {
      "cell_type": "code",
      "metadata": {
        "id": "ROc_MpprEn0U"
      },
      "source": [
        "#Guardamos el modelo en un archivo pickle\n",
        "pickle.dump(regressor, open('model.pkl','wb'))\n",
        "\n",
        "#Importamos el modelo guardado\n",
        "model = pickle.load(open('model.pkl','rb'))"
      ],
      "execution_count": null,
      "outputs": []
    },
    {
      "cell_type": "code",
      "metadata": {
        "colab": {
          "base_uri": "https://localhost:8080/"
        },
        "id": "sAj8iCuwITzK",
        "outputId": "f5de9a43-2d2d-4d64-a8fe-1295fcbb7cd9"
      },
      "source": [
        "#Input para ingresar la edad que tiene el usuario\n",
        "age_experience = float(input('Cuantos años de experiencia tiene '))\n",
        "\n",
        "#Predicción del salario que estaria ganando la persona segun la edad digitada.\n",
        "user_salary = model.predict([[np.array(age_experience)]])"
      ],
      "execution_count": null,
      "outputs": [
        {
          "output_type": "stream",
          "text": [
            "Cuantos años de experiencia tiene 1.5\n"
          ],
          "name": "stdout"
        }
      ]
    },
    {
      "cell_type": "code",
      "metadata": {
        "id": "ljEENCNcQviZ",
        "colab": {
          "base_uri": "https://localhost:8080/"
        },
        "outputId": "32e6475f-7ab9-4b31-9447-12a02300c3d9"
      },
      "source": [
        "#Se redondea la prediccion del salario para no trabajar con decimales\n",
        "user_salary = np.round(user_salary)\n",
        "user_salary"
      ],
      "execution_count": null,
      "outputs": [
        {
          "output_type": "execute_result",
          "data": {
            "text/plain": [
              "array([[3556501.]])"
            ]
          },
          "metadata": {
            "tags": []
          },
          "execution_count": 16
        }
      ]
    },
    {
      "cell_type": "code",
      "metadata": {
        "colab": {
          "base_uri": "https://localhost:8080/"
        },
        "id": "ipbu_0YLLZMk",
        "outputId": "d64f3ccc-1ca0-40ec-d436-20daf677ed34"
      },
      "source": [
        "#Pasamos el array a la matriz que cuenta con los datos de prueba y_test\n",
        "y_test = np.append(y_test, user_salary,  axis=0)\n",
        "y_test"
      ],
      "execution_count": null,
      "outputs": [
        {
          "output_type": "execute_result",
          "data": {
            "text/plain": [
              "array([[1800000.],\n",
              "       [4800000.],\n",
              "       [3556501.]])"
            ]
          },
          "metadata": {
            "tags": []
          },
          "execution_count": 18
        }
      ]
    },
    {
      "cell_type": "code",
      "metadata": {
        "id": "8mvNmfaoPmlx"
      },
      "source": [
        "#Pasamos la edad de la persona a la matriz de X_test\n",
        "X_test = np.append(X_test, [[age_experience]],  axis=0)"
      ],
      "execution_count": null,
      "outputs": []
    },
    {
      "cell_type": "code",
      "metadata": {
        "colab": {
          "base_uri": "https://localhost:8080/"
        },
        "id": "_zaROJJbPCIU",
        "outputId": "9abb9548-af12-4d4e-ff46-968fa02db152"
      },
      "source": [
        "X_test"
      ],
      "execution_count": null,
      "outputs": [
        {
          "output_type": "execute_result",
          "data": {
            "text/plain": [
              "array([[0.6],\n",
              "       [2. ],\n",
              "       [1.5]])"
            ]
          },
          "metadata": {
            "tags": []
          },
          "execution_count": 20
        }
      ]
    },
    {
      "cell_type": "code",
      "metadata": {
        "colab": {
          "base_uri": "https://localhost:8080/",
          "height": 295
        },
        "id": "Aw6lsUd3I0Lb",
        "outputId": "92f40025-98f6-4df0-c519-72b8b060856f"
      },
      "source": [
        "#Visualización de los datos de prueba con el nuevo salario predicho \n",
        "viz_train = plt\n",
        "viz_train.scatter(X_test, y_test, color = 'red')\n",
        "viz_train.plot(X_train, regressor.predict(X_train), color = 'black')\n",
        "viz_train.title('Salario vs Experiencia')\n",
        "viz_train.xlabel('Experiencia')\n",
        "viz_train.ylabel('Salario')\n",
        "viz_train.show()"
      ],
      "execution_count": null,
      "outputs": [
        {
          "output_type": "display_data",
          "data": {
            "image/png": "[encoded data removed]",
            "text/plain": [
              "<Figure size 432x288 with 1 Axes>"
            ]
          },
          "metadata": {
            "tags": [],
            "needs_background": "light"
          }
        }
      ]
    },
    {
      "cell_type": "markdown",
      "metadata": {
        "id": "gQLsuBVgXb_j"
      },
      "source": [
        "Ya culminamos el primer paso de entrenar el modelo.\n",
        "\n",
        "Ahora este modelo lo sacaremos a producción mediante FastAPI."
      ]
    }
  ]
}